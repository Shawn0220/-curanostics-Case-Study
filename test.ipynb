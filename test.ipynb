{
 "cells": [
  {
   "cell_type": "code",
   "execution_count": 4,
   "metadata": {},
   "outputs": [],
   "source": [
    "import requests\n",
    "import pprint\n",
    "import json\n",
    "\n",
    "url = \"http://18.219.230.164/api/question\""
   ]
  },
  {
   "cell_type": "code",
   "execution_count": 5,
   "metadata": {},
   "outputs": [],
   "source": [
    "user_question_list = [\n",
    "    \"I'm Medlock John, can you give me my patient summaries and insights?\",\n",
    "    \"I'm Medlock John, what is my Allergy?\",\n",
    "    \"I'm Medlock John. When did I get my pacemaker implanted?\",\n",
    "    \"I'm Medlock John. Is my weight abnormal?\",\n",
    "    \"I'm Medlock John. Is my kidney function normal?\",\n",
    "    \"I'm Medlock John. Is my BMI normal?\",\n",
    "    \"I'm Medlock John. Do I have diabetes? if so can you show me the records in detail\", \"help me find information on Encounter/a-80000.encounter-14957 \",\n",
    "    \"I'm Elijah Fisher. What vaccines have I received?\", \n",
    "    \"Hi I'm Camila Maria Lopez. What am I allergic to?\",\n",
    "    \"I'm Camila Maria Lopez, Can you give me my detailed healthcare goal?\",\n",
    "    \"Do you know any obstetrics and gynecology clinics in Los Angeles? What is their phone number? I would like to call for a consultation. By the way, what is the address?\"]"
   ]
  },
  {
   "cell_type": "code",
   "execution_count": 6,
   "metadata": {},
   "outputs": [
    {
     "name": "stdout",
     "output_type": "stream",
     "text": [
      "I'm Medlock John, can you give me my patient summaries and insights?\n",
      "--------------------------------------------------\n",
      "Response JSON: {'original_question': \"I'm Medlock John, can you give me my patient summaries and insights?\", 'response_message': \"Certainly, Medlock John. Below is a summary of your health examination records, along with insights on key health indicators such as trends, anomalies, and high-risk areas based on the available data:\\n\\n1. **Bilirubin (Total) in Serum or Plasma**: Your bilirubin levels have been stable at 0.4 mg/dL, within the normal range (0.0-1.2 mg/dL), indicating good liver function and low risk for liver-related issues.\\n\\n2. **Calcium Levels**: Your calcium level has remained stable at 9.5 mg/dL, within the normal range (8.7-10.3 mg/dL), indicating effective calcium homeostasis and low risk for related disorders.\\n\\n3. **Sodium Levels**: Occasionally above the normal range, with readings reaching 145 mmol/L (normal: 135-145 mmol/L). This could indicate a risk for hypernatremia, warranting continued monitoring and possible lifestyle adjustments.\\n\\n4. **Appearance of Urine**: Consistently clear, indicating proper hydration and kidney function.\\n\\n5. **Glomerular Filtration Rate (GFR)**: At 112 mL/min/1.73 sq M, indicating excellent kidney function and low risk for kidney disease.\\n\\n6. **AST Levels**: Stable at 39 IU/L, within normal limits (0-40 IU/L), but closely monitor as it's at the upper end.\\n\\n7. **BMI**: Decreased from 27.1 kg/m² to 25.4 kg/m², moving from overweight to the higher end of the normal weight category.\\n\\n8. **Eosinophils Count**: Stable at 0.1 x10e3/uL, within the normal range (0.0-0.4 x10e3/uL).\\n\\n9. **Oxygen Saturation**: Generally high, but one reading of 93% which is slightly lower than normal, may require monitoring.\\n\\n10. **Leukocyte Esterase & Nitrite in Urine**: Consistently negative, indicating no urinary tract infection.\\n\\n11. **Blood Glucose**: Consistently high at 256 mg/dL, significantly above the normal range (65-99 mg/dL). This is a high-risk area for diabetes complications and requires immediate medical intervention.\\n\\n12. **Hemoglobin A1c**: Decreased from 10% to 7.9%, showing improvement but still above normal (4.8-5.6%).\\n\\n13. **LDL Cholesterol**: High at 138 mg/dL (normal: 0-99 mg/dL), indicating a high risk for cardiovascular diseases.\\n\\n14. **Creatinine**: Stable at 0.63-0.64 mg/dL within the normal range (0.57-1.00 mg/dL), indicating healthy kidney function.\\n\\n15. **Hemoglobin**: Elevated between 17.2 g/dL and 17.8 g/dL, above the normal range. This could indicate an underlying condition requiring further investigation.\\n\\n16. **Triglycerides**: Stable at 120 mg/dL, within the normal range (0-149 mg/dL).\\n\\n17. **Cholesterol (Total)**: High at 251 mg/dL (normal: 100-199 mg/dL), requiring lifestyle changes or treatment.\\n\\n18. **Body Weight**: Decreasing trend, from 90,718.47 grams to 84,821.77 grams. Consult with your healthcare provider to ensure this is not indicative of an underlying issue.\\n\\n**Advice**: Continue regular monitoring of your key health indicators, especially areas of high risk such as blood glucose, cholesterol, and hemoglobin levels. Lifestyle modifications, including a balanced diet, exercise, and regular medical consultation, are essential to manage these health indicators effectively and reduce potential risks.\\n\\nPlease discuss these insights with your healthcare provider to tailor an appropriate health management plan.\"}\n"
     ]
    }
   ],
   "source": [
    "payload = {\n",
    "    \"user_question\": \"I'm Medlock John, can you give me my patient summaries and insights?\"\n",
    "}\n",
    "print(payload[\"user_question\"])\n",
    "# 发送 POST 请求\n",
    "response = requests.post(url, json=payload, headers={\"Content-Type\": \"application/json\"})\n",
    "print(\"-\"*50)\n",
    "print(\"Response JSON:\", response)"
   ]
  },
  {
   "cell_type": "code",
   "execution_count": 7,
   "metadata": {},
   "outputs": [
    {
     "ename": "TypeError",
     "evalue": "'Response' object is not subscriptable",
     "output_type": "error",
     "traceback": [
      "\u001b[1;31m---------------------------------------------------------------------------\u001b[0m",
      "\u001b[1;31mTypeError\u001b[0m                                 Traceback (most recent call last)",
      "Cell \u001b[1;32mIn[7], line 1\u001b[0m\n\u001b[1;32m----> 1\u001b[0m \u001b[38;5;28mprint\u001b[39m(\u001b[43mresponse\u001b[49m\u001b[43m[\u001b[49m\u001b[38;5;124;43m\"\u001b[39;49m\u001b[38;5;124;43mresponse_message\u001b[39;49m\u001b[38;5;124;43m\"\u001b[39;49m\u001b[43m]\u001b[49m)\n",
      "\u001b[1;31mTypeError\u001b[0m: 'Response' object is not subscriptable"
     ]
    }
   ],
   "source": [
    "print(response.json()[\"response_message\"])"
   ]
  },
  {
   "cell_type": "code",
   "execution_count": null,
   "metadata": {},
   "outputs": [
    {
     "name": "stdout",
     "output_type": "stream",
     "text": [
      "User question:  I'm Medlock John, can you give me my patient summaries and insights?\n",
      "\n",
      "Response Message:\n",
      "\n",
      "Certainly, Medlock John. Based on the comprehensive data you've provided, here are summaries and insights for various health indicators:\n",
      "\n",
      "1. **Liver Function**:\n",
      "   - **Bilirubin (Total)**: Stable at 0.4 mg/dL, well within the normal range, suggesting good liver function.\n",
      "   - **AST**: Consistently at 39 IU/L, within the normal range but at the upper limit. Regular monitoring is recommended.\n",
      "   - **ALT**: High at 67 IU/L, indicating potential liver issues. Consultation with a healthcare provider is advised for further evaluation.\n",
      "   - **Alkaline Phosphatase**: Slightly high at 121 IU/L, suggesting possible liver or bone issues. Further investigation is needed.\n",
      "\n",
      "2. **Kidney Function**:\n",
      "   - **Creatinine and GFR**: Both are stable and within normal ranges, indicating healthy kidney function.\n",
      "   - **BUN/Creatinine Ratio**: Slightly high at 27, which may warrant further evaluation to rule out kidney issues.\n",
      "\n",
      "3. **Blood Sugar and Lipids**:\n",
      "   - **Glucose**: High at 256 mg/dL, indicating poorly controlled blood sugar and a risk for diabetes complications. Immediate intervention is recommended.\n",
      "   - **Hemoglobin A1c**: Elevated but showing improvement. Continued efforts to lower levels are necessary.\n",
      "   - **Cholesterol**: High total cholesterol (251 mg/dL) and LDL (138 mg/dL) levels, posing a cardiovascular risk. Lifestyle changes and possible medication are advised.\n",
      "   - **HDL and Triglycerides**: Within normal range, supporting heart health.\n",
      "\n",
      "4. **Blood Counts**:\n",
      "   - **Hemoglobin**: Consistently high, which could indicate underlying issues such as heart or lung disease. Further investigation is needed.\n",
      "   - **White Blood Cells**: All types (neutrophils, lymphocytes, monocytes, eosinophils, basophils) are stable and within normal ranges, indicating a healthy immune response.\n",
      "\n",
      "5. **Electrolytes and Minerals**:\n",
      "   - **Sodium**: At the upper limit, with occasional slight elevations. This could risk hypernatremia, suggesting the need for dietary management.\n",
      "   - **Potassium, Calcium, Chloride**: All within normal ranges, indicating proper electrolyte balance.\n",
      "\n",
      "6. **Urine Analysis**:\n",
      "   - **Urine Tests (Nitrite, Leukocyte Esterase, Glucose, Ketones)**: Generally negative, except for persistent ketones, which could indicate dietary factors or diabetes. Further evaluation is recommended.\n",
      "\n",
      "7. **Vital Signs and Physical Measurements**:\n",
      "   - **Heart Rate and Blood Pressure**: Generally stable and within normal ranges, indicating cardiovascular health.\n",
      "   - **Body Weight**: Decreasing trend; if unintentional, this could indicate underlying health issues. Consultation with a healthcare provider is recommended.\n",
      "\n",
      "8. **Hormonal Function**:\n",
      "   - **Thyroid (TSH)**: At the upper limit of normal, suggesting a potential risk for hypothyroidism. Further thyroid function tests may be needed.\n",
      "\n",
      "**Recommendations**:\n",
      "- **Consult Healthcare Provider**: For elevated ALT, glucose, and cholesterol levels.\n",
      "- **Lifestyle Modifications**: Healthy diet, regular exercise, and weight management.\n",
      "- **Regular Monitoring**: Continuous observation of blood sugar, liver enzymes, and kidney function.\n",
      "\n",
      "These insights are based on the provided data. It's crucial to have regular check-ups and consult with healthcare professionals for personalized medical advice.\n",
      "\n",
      "\n",
      "\n",
      "\n",
      "User question:  I'm Medlock John, what is my Allergy?\n",
      "\n",
      "Response Message:\n",
      "\n",
      "Based on the records you provided, Medlock John has the following allergies:\n",
      "\n",
      "1. **Peanut Allergy:**\n",
      "   - **Recorded Dates:** First recorded on 2019-07-16 and noted again on 2021-06-03.\n",
      "   - **Status:** As of the last recorded date, the clinical status of the peanut allergy is \"Inactive\" with an onset date of 2013-06-04. This suggests that the peanut allergy is not currently active.\n",
      "\n",
      "2. **Penicillin Allergy:**\n",
      "   - **Recorded Date:** 2019-07-16.\n",
      "   - **Reaction:** Severe wheezing.\n",
      "   - **Clinical Status:** Active since onset on 2016-09-15. This indicates Medlock John should avoid medications containing penicillin due to the severe reaction.\n",
      "\n",
      "3. **Lisinopril Sensitivity:**\n",
      "   - **Recorded Date:** 2021-05-26.\n",
      "   - **Reaction:** Moderate cough.\n",
      "   - **Clinical Status:** Active with onset on 2021-05-26. This may require managing or adjusting medication if lisinopril is being used.\n",
      "\n",
      "**Health Advice:**\n",
      "- **Trends & Anomalies:** The peanut allergy shows a change in status from previously unknown to inactive, which might indicate improvement or desensitization. However, constant monitoring and consultation with a healthcare provider are advised.\n",
      "- **High-Risk Areas:** The penicillin allergy remains a high-risk area due to its severe reaction and active status. This requires careful consideration when prescribing antibiotics.\n",
      "- **Reference Range:** For severity of reactions, any severe reactions should be immediately addressed and managed by healthcare professionals. Moderate reactions like the cough with lisinopril should also be monitored, and alternatives should be considered if it affects the quality of life.\n",
      "\n",
      "Overall, Medlock John should continue to consult with healthcare providers to manage these allergies and update records as necessary.\n",
      "\n",
      "\n",
      "\n",
      "\n",
      "User question:  I'm Medlock John. When did I get my pacemaker implanted?\n",
      "\n",
      "Response Message:\n",
      "\n",
      "Based on the information provided, your pacemaker was implanted on April 8, 2021. \n",
      "\n",
      "Regarding key health indicators, you should consider the following:\n",
      "\n",
      "1. **Device Expiration and Maintenance**: \n",
      "   - Ensure regular follow-ups with your healthcare provider to assess the condition of your pacemaker and its battery life, despite its expiration date being in 2040.\n",
      "\n",
      "2. **Anomalies or Trends**:\n",
      "   - Monitor for any unusual symptoms such as dizziness, shortness of breath, or palpitations, which could indicate a malfunction or need for adjustment.\n",
      "\n",
      "3. **High-Risk Areas**:\n",
      "   - Avoid exposure to strong electromagnetic fields, which could interfere with the pacemaker's functioning. \n",
      "\n",
      "4. **Reference Range and Routine Monitoring**:\n",
      "   - Ensure that routine check-ups are scheduled to monitor the pacemaker's performance within its expected operational parameters.\n",
      "\n",
      "By staying informed and maintaining regular communication with your healthcare provider, you can manage your health effectively and mitigate any potential risks associated with your pacemaker.\n",
      "\n",
      "\n",
      "\n",
      "\n",
      "User question:  I'm Medlock John. Is my weight abnormal?\n"
     ]
    }
   ],
   "source": [
    "for user_question in user_question_list:\n",
    "    payload = {\n",
    "        \"user_question\": user_question\n",
    "    }\n",
    "    print(\"User question: \", user_question)\n",
    "\n",
    "    response = requests.post(url, json=payload, headers={\"Content-Type\": \"application/json\"})\n",
    "    # print(\"-\"*50)\n",
    "    # print(\"Response JSON:\", response.json())\n",
    "    # print(\"Original Question:\")\n",
    "    response_json = response.json()\n",
    "    # print(response_json['original_question'])\n",
    "    print(\"\\nResponse Message:\\n\")\n",
    "\n",
    "    print(response_json['response_message'])\n",
    "    print(\"\\n\"*3)"
   ]
  }
 ],
 "metadata": {
  "kernelspec": {
   "display_name": "jailbreak",
   "language": "python",
   "name": "python3"
  },
  "language_info": {
   "codemirror_mode": {
    "name": "ipython",
    "version": 3
   },
   "file_extension": ".py",
   "mimetype": "text/x-python",
   "name": "python",
   "nbconvert_exporter": "python",
   "pygments_lexer": "ipython3",
   "version": "3.9.21"
  }
 },
 "nbformat": 4,
 "nbformat_minor": 2
}
